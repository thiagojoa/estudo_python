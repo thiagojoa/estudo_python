{
  "nbformat": 4,
  "nbformat_minor": 0,
  "metadata": {
    "colab": {
      "name": "Crawler_Scraping.ipynb",
      "version": "0.3.2",
      "provenance": []
    },
    "kernelspec": {
      "name": "python3",
      "display_name": "Python 3"
    }
  },
  "cells": [
    {
      "cell_type": "markdown",
      "metadata": {
        "id": "view-in-github",
        "colab_type": "text"
      },
      "source": [
        "[View in Colaboratory](https://colab.research.google.com/github/thiagojoa/estudo_python/blob/master/Crawler_Scraping.ipynb)"
      ]
    },
    {
      "metadata": {
        "id": "dpBj756_TXeM",
        "colab_type": "text"
      },
      "cell_type": "markdown",
      "source": [
        "## Crawler e Scraping para captura de dados na WEB\n",
        "\n",
        "Neste notebook, vou mostrar passo a passo como obter dados de um produto que esta sendo vendido em uma página web (E-commerce)\n",
        "\n",
        "Antes gostaria de dizer que sou entusiasta Python e ainda estou aprendendo a utiliza-lo, em resumo quero dizer que todas as sugestões, correções entre outras serão bem vindas, esntão desde já agradeço seu comentário e/ou correções.\n",
        "\n",
        "Meu e-mail para caso tenham dúvidas é [thiago.msbueno@gmail.com](https://)\n",
        "\n",
        "\n",
        "Para executarmos esta extração de dados, utilizaremos Python com as bibliotecas, [BeautifulSoup](https://www.crummy.com/software/BeautifulSoup/bs4/doc/), [Requests](http://docs.python-requests.org/pt_BR/latest/), e [Re](https://docs.python.org/2/library/re.html) (Lib regex para manipularmos algumas strings)"
      ]
    },
    {
      "metadata": {
        "id": "M3oEmsUDVGj8",
        "colab_type": "text"
      },
      "cell_type": "markdown",
      "source": [
        "##Como definir a estratégia para obter dados de uma página web\n",
        "\n",
        "Eu particularmente dividirei este processo de scraping nas seguintes etapas:\n",
        "\n",
        "1 - Compreensão dos alvos, isto é, em qual página web esta localizada as informações que queremos.\n",
        "\n",
        "2 - Localização dos alvos, isto é, onde estão os dados que quermos obter dentro da estrutura html da página.\n",
        "\n",
        "3 - Identificação do método de extração, por exemplo, o alvo esta dentro de tags html? Dentro de tags html de script em um json? Como e onde o alvo está dentro do codigo?\n",
        "\n",
        "4- Obtenção dos dados com as ferramentas escolhidas.\n",
        "\n",
        "Neste exemplo usaremos uma Churrasqueira Nautika, que está a venda em um e-commerce, onde queremos obter os seguintes dados referente ao produto:\n",
        "\n",
        "Titulo da Pagina do produto:\n",
        "Descrição do produto:\n",
        "Preço:\n",
        "Marca:\n",
        "Categoria:\n",
        "SKU:\n",
        "\n",
        "**Informações adicionais:**\n",
        "\n",
        "*E-commerce escolhido para exemplo: https://www.lojasestrela.com.br*\n",
        "\n",
        "*Produto escolhido para obtenção de dados: Churrasqueira Nautika Colorado*\n",
        "\n",
        "*Link da pagina do produto: https://www.lojasestrela.com.br/churrasqueira-nautika-colorado*\n"
      ]
    },
    {
      "metadata": {
        "id": "zDi7F6pvaQmK",
        "colab_type": "text"
      },
      "cell_type": "markdown",
      "source": [
        "##1 - Compreensão do Alvo\n",
        "Sabemos que o nosso objetivo é capturar os dados de preço, marca, descrição, titulo da página e SKU da Churrasqueira Nautika que é um produto ativo do e-commerce da Empresa [Lojas Estrela](https://www.lojasestrela.com.br), sendo assim, vamos navegar na pagina do e-commerce e localizar este produto. \n",
        "\n",
        "Após localizarmos o produto, achamos o link do mesmo, que é https://www.lojasestrela.com.br/churrasqueira-nautika-colorado , sendo assim, já podemos pular para próxima etapa que é a parte de analíse do HTML desta página."
      ]
    },
    {
      "metadata": {
        "id": "xZP84ki7bOTO",
        "colab_type": "text"
      },
      "cell_type": "markdown",
      "source": [
        "##2 - Localização dos alvos\n",
        "Sabemos que os alvos que quermos  encontrar dentro deste html, são códigos que nos retornem os dados referentes ao titulo da Pagina do produto, descrição do produto, preço, marca, categoria e SKU. Sendo assim abaixo temos o HTML completo da página obtido através do inspetor de elemtnos do navegador, normalmente Ctrl + Shift + i no navegador, na página em questão. \n",
        "\n",
        "Abaixo faremos uma análise neste HTML para verificar se encontraremos os alvos dentro dele, segue HTML abaixo, para abri-lo basta clicar em SHOW CODE"
      ]
    },
    {
      "metadata": {
        "id": "TnYg2limqipQ",
        "colab_type": "text"
      },
      "cell_type": "markdown",
      "source": [
        "##3 - Identificação do método de extração\n",
        "Neste passo, após analisar o HTML acima, conclui-se que todos os dados que temos como objetivo capturar, estão no HTML referido e que este e-commerce carrega grande parte dos dados dos pordutos, dentro de um JSON localizado dentro de uma tag script no head do HTML em questão. O Codigo abaixo vem com alguns erros de charset, mas é perfeitamente interpretado pelo Python.\n",
        "```\n",
        "\n",
        "<script>dataLayer = [{\"pageTitle\":\"Churrasqueira Nautika Colorado Nautika nas Lojas Estrela - M\\u00f3veis, Eletrodom\\u00e9sticos, Foto \\u00d3tica, Departamentos e muito mais\",\"pageCategory\":\"Produto\",\"event\":\"\",\"siteSearchFrom\":\"\",\"idProduct\":\"7398\",\"nameProduct\":\"Churrasqueira Nautika Colorado\",\"category\":\"Churrasqueiras\",\"idCategory\":\"73\",\"priceSell\":\"436.00\",\"promotion\":\"NO\",\"price\":\"436.00\",\"brand\":\"Nautika\",\"reference\":\"7398\",\"model\":\"\",\"availability\":\"YES\",\"availabilityDetails\":\"Imediata\",\"urlImage\":\"https:\\/\\/images.tcdn.com.br\\/img\\/img_prod\\/587522\\/churrasqueira_nautika_colorado_7398_1_20170823161515.jpg\",\"urlProduct\":\"http:\\/\\/www.lojasestrela.com.br\\/churrasqueira-nautika-colorado\",\"listSku\":[],\"characteristcs\":[],\"priceSellDetails\":[{\"name\":\"\",\"installment.months\":\"1\",\"installment.amount\":\"414.20\"},{\"name\":\"\",\"installment.months\":\"10\",\"installment.amount\":\"43.60\"}],\"EAN\":\"\",\"breadcrumbDetails\":[{\"id\":\"41\",\"name\":\"Esporte e Lazer\",\"level\":1},{\"id\":\"73\",\"name\":\"Churrasqueiras\",\"level\":2}],\"freeShipping\":\"NO\",\"hot\":\"NO\",\"additionalButton\":\"NO\",\"release\":\"NO\",\"rating\":{\"count\":\"0\",\"average\":\"0\"},\"breadcrumb\":\"P\\u00e1gina Inicial > Esporte e Lazer > Churrasqueiras\"}]</script><script>\n",
        "                    var gtmTray = document.createElement(\"script\");\n",
        "                    gtmTray.src = \"/mvc/store/587522/google_tag_manager/updateGTM.js?\" + Date.now();\n",
        "                    document.querySelector(\"head\").appendChild(gtmTray);\n",
        "                </script>\n",
        "```\n",
        "\n",
        "**Sendo assim...**\n",
        "Temos então que nossos dados estão distribuidos da seguinte maneira dentro de nosso código:\n",
        "\n",
        "Preço -> Dentro do JSON na no script da tag HEAD\n",
        "Marca -> Dentro do JSON na no script da tag HEAD\n",
        "Descrição -> Dentro do JSON na no script da tag HEAD\n",
        "Titulo da página -> Na tag TITLE que se localiza na tag HEAD\n",
        "SKU -> Dentro do JSON na no script da tag HEAD\n",
        "\n",
        "Enfim, tirando o titulo da página, todos os nossos alvos estão dentro do JSON, e as minhas escolhas são: \n",
        "\n",
        "Para os alvos que estão no JSON\n",
        "\n",
        "Preço, Marca, Descrição e SKU -> Utilizar a extração via beatifulsoup do head do documento e após utilizar REGEX para extrair dados exatos. \n",
        "\n",
        "Já para o titulo da página, podemos utilizar apenas a lib beatifulsou, pois ele se localiza na tag title. \n",
        "\n",
        "Tudo definido, partimos para extração dos dados com Python e suas bibliotecas no passo 4\n",
        "\n"
      ]
    },
    {
      "metadata": {
        "id": "TonA6fBSvrRk",
        "colab_type": "text"
      },
      "cell_type": "markdown",
      "source": [
        "##Obtenção dos dados com as ferramentas escolhidas\n",
        "Agora seguimos com a programação python que faz a extração dos dados, explicação do código estarão como comentários nos blocos abaixo, para testar o código deve-se executar bloco a bloco consecutivamente\n"
      ]
    },
    {
      "metadata": {
        "id": "m_ppeLWFxT5a",
        "colab_type": "code",
        "colab": {
          "base_uri": "https://localhost:8080/",
          "height": 121
        },
        "outputId": "4f5fc6ba-a045-49a0-d235-46e36fde3730"
      },
      "cell_type": "code",
      "source": [
        "#este pip instala a lib lxml no google colab\n",
        "!pip install lxml\n",
        "\n",
        "#Importando todas as bibliotecas que usaremos no ambiente\n",
        "from bs4 import BeautifulSoup as bs\n",
        "import requests\n",
        "import re\n",
        "import lxml\n",
        "\n",
        "#Agora colocaremos na variavel html o link da pagina de produto que vamos\n",
        "#utilizar, você pode escolher outro prduto e colocar aqui para testar\n",
        "\n",
        "html = 'https://www.lojasestrela.com.br/churrasqueira-nautika-colorado'\n",
        "\n",
        "#html também será a variavel que vai armazenar o conteúdo html da pagina\n",
        "html = requests.get(html)\n",
        "\n",
        "#Gerando o objeto BeautifulSoup com o conteudo da variavel html\n",
        "soup = bs(html.content, \"lxml\")\n",
        "\n",
        "#agora, convertemos o o objeto retornado em string para utilizarmos com o regex\n",
        "string_html = str(soup.html.head)\n",
        "\n",
        "#print(soup.html.head) #teremos a saida do head do html\n",
        "\n",
        "#Agora faremos a busca via regex dos dados alvo\n",
        "#Foi verificado que o alvo esta dentro do trecho de Codigo\n",
        "#'<script>dataLayer=......' sendo assim o codigo regex que da\n",
        "#match no preço por exemplo é \"\"priceSell\":\"(.\\w.\\w*[.]\\w*)/\"\n",
        "#voce pode checar essa regex no site https://www.regexpal.com/\n",
        "\n",
        "#Capturando o preço do produto com regex\n",
        "\n",
        "#capturando o titulo da pagina, sabendo que ja temos ele no objeto\n",
        "#Soup, podendo então capturalo através do HTML -> HEAD - > TITLE\n",
        "#porem vamos utilizar o find para ser mais um exemplo\n",
        "titulo_pagina = soup.find('title')\n",
        "\n",
        "#Agora transformar a var em string para remover tags html e utilização posterior\n",
        "titulo_pagina = str(titulo_pagina)\n",
        "\n",
        "#Cria varial com codigo regex que remove tags html de strings\n",
        "TAG_RE = re.compile(r'<[^>]+>')\n",
        "\n",
        "#cria-se função que remove tags html de strings\n",
        "def remove_tags(text):\n",
        "    return TAG_RE.sub('', text)\n",
        "\n",
        "#remove as tags html chamando a funcao que remove tags e pronto\n",
        "#nossa variavel titulo_pagina agora é uma string sem tags htmls\n",
        "titulo_pagina = remove_tags(titulo_pagina)\n",
        "\n",
        "#capturando a descricao do produtos com find regex\n",
        "descricao = re.findall(r'(?:\"nameProduct\":\")(.*?)(?:\")', string_html)\n",
        "#Agora transformar a var em string para utilização posterior\n",
        "descricao = str(descricao)\n",
        "\n",
        "#capturando preço do produto com find regex\n",
        "preco = re.findall(r'\"priceSell\":\"(.\\w*[.]\\w*)', string_html)\n",
        "#Agora transformar a var em string para utilização posterior\n",
        "preco = str(preco)\n",
        "\n",
        "#capturando a marca do produto com find regex\n",
        "marca = re.findall(r'(?:\"brand\":\")(.*?)(?:\")', string_html)\n",
        "#Agora transformar a var em string para utilização posterior\n",
        "marca = str(marca)\n",
        "\n",
        "#capturando a categoria do produto com find regex\n",
        "categoria = re.findall(r'(?:\"brand\":\")(.*?)(?:\")', string_html)\n",
        "#Agora transformar a var em string para utilização posterior\n",
        "categoria = str(categoria)\n",
        "\n",
        "#capturando o SKU do produto com find regex\n",
        "sku= re.findall(r'(?:\"idProduct\":\")(.*?)(?:\")', string_html)\n",
        "#Agora transformar a var em string para utilização posterior\n",
        "sku = str(sku)\n",
        "\n",
        "print('Título da Página: '+ titulo_pagina)\n",
        "print('Descrição do Produto: '+ descricao)\n",
        "print('Preço: '+ preco)\n",
        "print('Marca: '+ marca)\n",
        "print('Sku: '+sku)\n"
      ],
      "execution_count": 2,
      "outputs": [
        {
          "output_type": "stream",
          "text": [
            "Requirement already satisfied: lxml in /usr/local/lib/python3.6/dist-packages (4.2.1)\r\n",
            "Título da Página: Churrasqueira Nautika Colorado Nautika nas Lojas Estrela - Móveis, Eletrodomésticos, Foto Ótica, Departamentos e muito mais\n",
            "Descrição do Produto: ['Churrasqueira Nautika Colorado']\n",
            "Preço: ['436.00']\n",
            "Marca: ['Nautika']\n",
            "Sku: ['7398']\n"
          ],
          "name": "stdout"
        }
      ]
    }
  ]
}